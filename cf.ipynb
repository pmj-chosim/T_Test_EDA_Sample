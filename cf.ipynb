{
 "cells": [
  {
   "cell_type": "code",
   "execution_count": 1,
   "id": "b6ee4911",
   "metadata": {},
   "outputs": [],
   "source": [
    "ac_path='C:/Users/parkm/Desktop/data/1/trans_to_csv/acoustic'\n",
    "ct_path='C:/Users/parkm/Desktop/data/1/trans_to_csv/current,temp'\n",
    "vib_path='C:/Users/parkm/Desktop/data/1/trans_to_csv/vibration'\n",
    "import pandas as pd"
   ]
  },
  {
   "cell_type": "code",
   "execution_count": 15,
   "id": "550f9f84",
   "metadata": {},
   "outputs": [],
   "source": [
    "file_list=['0Nm_BPFI_03.csv', '0Nm_BPFI_10.csv', '0Nm_BPFO_03.csv', '0Nm_BPFO_10.csv','0Nm_Normal.csv']"
   ]
  },
  {
   "cell_type": "code",
   "execution_count": null,
   "id": "6f99a36a",
   "metadata": {},
   "outputs": [
    {
     "name": "stdout",
     "output_type": "stream",
     "text": [
      "Acoustic 데이터 처리 시작...\n",
      "  - 파일 로드: C:/Users/parkm/Desktop/data/1/trans_to_csv/acoustic/aco_0Nm_BPFI_03.csv\n"
     ]
    },
    {
     "name": "stderr",
     "output_type": "stream",
     "text": [
      "C:\\Users\\parkm\\AppData\\Local\\Temp\\ipykernel_25068\\2441249885.py:44: SettingWithCopyWarning: \n",
      "A value is trying to be set on a copy of a slice from a DataFrame.\n",
      "Try using .loc[row_indexer,col_indexer] = value instead\n",
      "\n",
      "See the caveats in the documentation: https://pandas.pydata.org/pandas-docs/stable/user_guide/indexing.html#returning-a-view-versus-a-copy\n",
      "  ac_selected['label'] = 1  # 고장 (BPFI, BPFO 등)\n"
     ]
    },
    {
     "name": "stdout",
     "output_type": "stream",
     "text": [
      "    - 라벨 추가: 1 (고장)\n",
      "    - 저장 완료: C:/Users/parkm/Desktop/data/1/trans_to_csv/acoustic_label/0Nm_BPFI_03_tr.csv\n",
      "  - 파일 로드: C:/Users/parkm/Desktop/data/1/trans_to_csv/acoustic/aco_0Nm_BPFI_10.csv\n",
      "    - 저장 완료: C:/Users/parkm/Desktop/data/1/trans_to_csv/acoustic_label/0Nm_BPFI_03_tr.csv\n",
      "  - 파일 로드: C:/Users/parkm/Desktop/data/1/trans_to_csv/acoustic/aco_0Nm_BPFI_10.csv\n"
     ]
    },
    {
     "name": "stderr",
     "output_type": "stream",
     "text": [
      "C:\\Users\\parkm\\AppData\\Local\\Temp\\ipykernel_25068\\2441249885.py:44: SettingWithCopyWarning: \n",
      "A value is trying to be set on a copy of a slice from a DataFrame.\n",
      "Try using .loc[row_indexer,col_indexer] = value instead\n",
      "\n",
      "See the caveats in the documentation: https://pandas.pydata.org/pandas-docs/stable/user_guide/indexing.html#returning-a-view-versus-a-copy\n",
      "  ac_selected['label'] = 1  # 고장 (BPFI, BPFO 등)\n"
     ]
    },
    {
     "name": "stdout",
     "output_type": "stream",
     "text": [
      "    - 라벨 추가: 1 (고장)\n",
      "    - 저장 완료: C:/Users/parkm/Desktop/data/1/trans_to_csv/acoustic_label/0Nm_BPFI_10_tr.csv\n",
      "  - 파일 로드: C:/Users/parkm/Desktop/data/1/trans_to_csv/acoustic/aco_0Nm_BPFO_03.csv\n",
      "    - 저장 완료: C:/Users/parkm/Desktop/data/1/trans_to_csv/acoustic_label/0Nm_BPFI_10_tr.csv\n",
      "  - 파일 로드: C:/Users/parkm/Desktop/data/1/trans_to_csv/acoustic/aco_0Nm_BPFO_03.csv\n"
     ]
    },
    {
     "name": "stderr",
     "output_type": "stream",
     "text": [
      "C:\\Users\\parkm\\AppData\\Local\\Temp\\ipykernel_25068\\2441249885.py:44: SettingWithCopyWarning: \n",
      "A value is trying to be set on a copy of a slice from a DataFrame.\n",
      "Try using .loc[row_indexer,col_indexer] = value instead\n",
      "\n",
      "See the caveats in the documentation: https://pandas.pydata.org/pandas-docs/stable/user_guide/indexing.html#returning-a-view-versus-a-copy\n",
      "  ac_selected['label'] = 1  # 고장 (BPFI, BPFO 등)\n"
     ]
    },
    {
     "name": "stdout",
     "output_type": "stream",
     "text": [
      "    - 라벨 추가: 1 (고장)\n",
      "    - 저장 완료: C:/Users/parkm/Desktop/data/1/trans_to_csv/acoustic_label/0Nm_BPFO_03_tr.csv\n",
      "  - 파일 로드: C:/Users/parkm/Desktop/data/1/trans_to_csv/acoustic/aco_0Nm_BPFO_10.csv\n",
      "    - 저장 완료: C:/Users/parkm/Desktop/data/1/trans_to_csv/acoustic_label/0Nm_BPFO_03_tr.csv\n",
      "  - 파일 로드: C:/Users/parkm/Desktop/data/1/trans_to_csv/acoustic/aco_0Nm_BPFO_10.csv\n"
     ]
    },
    {
     "name": "stderr",
     "output_type": "stream",
     "text": [
      "C:\\Users\\parkm\\AppData\\Local\\Temp\\ipykernel_25068\\2441249885.py:44: SettingWithCopyWarning: \n",
      "A value is trying to be set on a copy of a slice from a DataFrame.\n",
      "Try using .loc[row_indexer,col_indexer] = value instead\n",
      "\n",
      "See the caveats in the documentation: https://pandas.pydata.org/pandas-docs/stable/user_guide/indexing.html#returning-a-view-versus-a-copy\n",
      "  ac_selected['label'] = 1  # 고장 (BPFI, BPFO 등)\n"
     ]
    },
    {
     "name": "stdout",
     "output_type": "stream",
     "text": [
      "    - 라벨 추가: 1 (고장)\n",
      "    - 저장 완료: C:/Users/parkm/Desktop/data/1/trans_to_csv/acoustic_label/0Nm_BPFO_10_tr.csv\n",
      "  - 파일 로드: C:/Users/parkm/Desktop/data/1/trans_to_csv/acoustic/aco_0Nm_Normal.csv\n",
      "    - 저장 완료: C:/Users/parkm/Desktop/data/1/trans_to_csv/acoustic_label/0Nm_BPFO_10_tr.csv\n",
      "  - 파일 로드: C:/Users/parkm/Desktop/data/1/trans_to_csv/acoustic/aco_0Nm_Normal.csv\n"
     ]
    },
    {
     "name": "stderr",
     "output_type": "stream",
     "text": [
      "C:\\Users\\parkm\\AppData\\Local\\Temp\\ipykernel_25068\\2441249885.py:41: SettingWithCopyWarning: \n",
      "A value is trying to be set on a copy of a slice from a DataFrame.\n",
      "Try using .loc[row_indexer,col_indexer] = value instead\n",
      "\n",
      "See the caveats in the documentation: https://pandas.pydata.org/pandas-docs/stable/user_guide/indexing.html#returning-a-view-versus-a-copy\n",
      "  ac_selected['label'] = 0  # 정상\n"
     ]
    },
    {
     "name": "stdout",
     "output_type": "stream",
     "text": [
      "    - 라벨 추가: 0 (정상)\n",
      "    - 저장 완료: C:/Users/parkm/Desktop/data/1/trans_to_csv/acoustic_label/0Nm_Normal_tr.csv\n",
      "\n",
      "Acoustic 데이터 처리 완료.\n",
      "처리된 파일들은 'C:/Users/parkm/Desktop/data/1/trans_to_csv/acoustic_label/' 폴더에 저장되었습니다.\n",
      "    - 저장 완료: C:/Users/parkm/Desktop/data/1/trans_to_csv/acoustic_label/0Nm_Normal_tr.csv\n",
      "\n",
      "Acoustic 데이터 처리 완료.\n",
      "처리된 파일들은 'C:/Users/parkm/Desktop/data/1/trans_to_csv/acoustic_label/' 폴더에 저장되었습니다.\n"
     ]
    }
   ],
   "source": [
    "import pandas as pd\n",
    "import os\n",
    "\n",
    "# 원본 acoustic 데이터 경로\n",
    "ac_input_path = 'C:/Users/parkm/Desktop/data/1/trans_to_csv/acoustic/'\n",
    "\n",
    "# 처리된 파일들을 저장할 새로운 경로 (폴더가 없으면 생성)\n",
    "ac_output_path = 'C:/Users/parkm/Desktop/data/1/trans_to_csv/acoustic_label/'\n",
    "os.makedirs(ac_output_path, exist_ok=True) # 폴더가 없으면 만듦.\n",
    "\n",
    "prefix = 'aco_' # 파일명 접두사\n",
    "\n",
    "print(\"Acoustic 데이터 처리 시작...\")\n",
    "\n",
    "for s in file_list:\n",
    "    original_file_name = s # '0Nm_BPFI_03.csv' 같은 원본 파일명\n",
    "    \n",
    "    # 1. 파일 경로 조합 및 데이터 로드\n",
    "    file_path = os.path.join(ac_input_path, f\"{prefix}{original_file_name}\")\n",
    "    print(f\"  - 파일 로드: {file_path}\")\n",
    "    \n",
    "    try:\n",
    "        ac = pd.read_csv(file_path)\n",
    "    except FileNotFoundError:\n",
    "        print(f\"    경고: 파일을 찾을 수 없습니다: {file_path}. 건너뜝니다.\")\n",
    "        continue\n",
    "    \n",
    "    # 2. 첫 번째와 마지막 열만 추출\n",
    "    # ac_selected = ac.iloc[:, [0, -1]]\n",
    "    if 'Time_s' in ac.columns and ac.columns[-1] == 'Pa_Col1': # 예시 컬럼명\n",
    "        ac_selected = ac[['Time_s', 'Pa_Col1']]\n",
    "    elif 'Time_s' in ac.columns: # 마지막 컬럼을 명시적으로 모를 경우\n",
    "        ac_selected = ac.iloc[:, [0, -1]]\n",
    "        print(f\"    주의: 마지막 컬럼명을 'Pa_Col1'로 가정합니다. 실제 이름은 {ac_selected.columns[-1]}입니다.\")\n",
    "    else:\n",
    "        print(f\"    경고: 'Time_s' 컬럼이 없어 처리할 수 없습니다: {original_file_name}. 건너뜝니다.\")\n",
    "        continue\n",
    "\n",
    "    # 3. 라벨링 열 추가 (Normal은 0, 나머지는 1)\n",
    "    if 'Normal' in original_file_name:\n",
    "        ac_selected['label'] = 0  # 정상\n",
    "        print(f\"    - 라벨 추가: 0 (정상)\")\n",
    "    else:\n",
    "        ac_selected['label'] = 1  # 고장 (BPFI, BPFO 등)\n",
    "        print(f\"    - 라벨 추가: 1 (고장)\")\n",
    "    \n",
    "    # 4. 새로운 파일명 생성 (_tr 추가) 및 저장 경로 조합\n",
    "    base_name = os.path.splitext(original_file_name)[0] # '0Nm_BPFI_03'\n",
    "    new_file_name = f\"{base_name}_tr.csv\" # '0Nm_BPFI_03_tr.csv'\n",
    "    output_file_path = os.path.join(ac_output_path, new_file_name)\n",
    "    \n",
    "    # 5. 시계열 데이터를 섞지 않고 그대로 저장 (ignore_index=True 아님, drop_index=True 아님)\n",
    "    ac_selected.to_csv(output_file_path, index=False) # DataFrame 인덱스는 저장하지 않음\n",
    "    print(f\"    - 저장 완료: {output_file_path}\")\n",
    "\n",
    "print(\"\\nAcoustic 데이터 처리 완료.\")\n",
    "print(f\"처리된 파일들은 '{ac_output_path}' 폴더에 저장되었습니다.\")"
   ]
  },
  {
   "cell_type": "markdown",
   "id": "5ef5617a",
   "metadata": {},
   "source": [
    "## 2. Vibration\n",
    "\n",
    "#### 1) 부분만 변환(acoustic 상응하는 데이터만)"
   ]
  },
  {
   "cell_type": "code",
   "execution_count": 17,
   "id": "eb8d095e",
   "metadata": {},
   "outputs": [
    {
     "name": "stdout",
     "output_type": "stream",
     "text": [
      "Vibration 데이터 처리 시작...\n",
      "  - 파일 로드: C:/Users/parkm/Desktop/data/1/trans_to_csv/vibration/vib_0Nm_BPFI_03.csv\n"
     ]
    },
    {
     "name": "stderr",
     "output_type": "stream",
     "text": [
      "C:\\Users\\parkm\\AppData\\Local\\Temp\\ipykernel_25068\\2553218183.py:49: SettingWithCopyWarning: \n",
      "A value is trying to be set on a copy of a slice from a DataFrame.\n",
      "Try using .loc[row_indexer,col_indexer] = value instead\n",
      "\n",
      "See the caveats in the documentation: https://pandas.pydata.org/pandas-docs/stable/user_guide/indexing.html#returning-a-view-versus-a-copy\n",
      "  vib_selected['label'] = 1  # 고장 (BPFI, BPFO 등)\n"
     ]
    },
    {
     "name": "stdout",
     "output_type": "stream",
     "text": [
      "    - 라벨 추가: 1 (고장)\n",
      "    - 저장 완료: C:/Users/parkm/Desktop/data/1/trans_to_csv/vibration_label/0Nm_BPFI_03_tr.csv\n",
      "  - 파일 로드: C:/Users/parkm/Desktop/data/1/trans_to_csv/vibration/vib_0Nm_BPFI_10.csv\n",
      "    - 저장 완료: C:/Users/parkm/Desktop/data/1/trans_to_csv/vibration_label/0Nm_BPFI_03_tr.csv\n",
      "  - 파일 로드: C:/Users/parkm/Desktop/data/1/trans_to_csv/vibration/vib_0Nm_BPFI_10.csv\n"
     ]
    },
    {
     "name": "stderr",
     "output_type": "stream",
     "text": [
      "C:\\Users\\parkm\\AppData\\Local\\Temp\\ipykernel_25068\\2553218183.py:49: SettingWithCopyWarning: \n",
      "A value is trying to be set on a copy of a slice from a DataFrame.\n",
      "Try using .loc[row_indexer,col_indexer] = value instead\n",
      "\n",
      "See the caveats in the documentation: https://pandas.pydata.org/pandas-docs/stable/user_guide/indexing.html#returning-a-view-versus-a-copy\n",
      "  vib_selected['label'] = 1  # 고장 (BPFI, BPFO 등)\n"
     ]
    },
    {
     "name": "stdout",
     "output_type": "stream",
     "text": [
      "    - 라벨 추가: 1 (고장)\n",
      "    - 저장 완료: C:/Users/parkm/Desktop/data/1/trans_to_csv/vibration_label/0Nm_BPFI_10_tr.csv\n",
      "  - 파일 로드: C:/Users/parkm/Desktop/data/1/trans_to_csv/vibration/vib_0Nm_BPFO_03.csv\n",
      "    - 저장 완료: C:/Users/parkm/Desktop/data/1/trans_to_csv/vibration_label/0Nm_BPFI_10_tr.csv\n",
      "  - 파일 로드: C:/Users/parkm/Desktop/data/1/trans_to_csv/vibration/vib_0Nm_BPFO_03.csv\n"
     ]
    },
    {
     "name": "stderr",
     "output_type": "stream",
     "text": [
      "C:\\Users\\parkm\\AppData\\Local\\Temp\\ipykernel_25068\\2553218183.py:49: SettingWithCopyWarning: \n",
      "A value is trying to be set on a copy of a slice from a DataFrame.\n",
      "Try using .loc[row_indexer,col_indexer] = value instead\n",
      "\n",
      "See the caveats in the documentation: https://pandas.pydata.org/pandas-docs/stable/user_guide/indexing.html#returning-a-view-versus-a-copy\n",
      "  vib_selected['label'] = 1  # 고장 (BPFI, BPFO 등)\n"
     ]
    },
    {
     "name": "stdout",
     "output_type": "stream",
     "text": [
      "    - 라벨 추가: 1 (고장)\n",
      "    - 저장 완료: C:/Users/parkm/Desktop/data/1/trans_to_csv/vibration_label/0Nm_BPFO_03_tr.csv\n",
      "  - 파일 로드: C:/Users/parkm/Desktop/data/1/trans_to_csv/vibration/vib_0Nm_BPFO_10.csv\n",
      "    - 저장 완료: C:/Users/parkm/Desktop/data/1/trans_to_csv/vibration_label/0Nm_BPFO_03_tr.csv\n",
      "  - 파일 로드: C:/Users/parkm/Desktop/data/1/trans_to_csv/vibration/vib_0Nm_BPFO_10.csv\n"
     ]
    },
    {
     "name": "stderr",
     "output_type": "stream",
     "text": [
      "C:\\Users\\parkm\\AppData\\Local\\Temp\\ipykernel_25068\\2553218183.py:49: SettingWithCopyWarning: \n",
      "A value is trying to be set on a copy of a slice from a DataFrame.\n",
      "Try using .loc[row_indexer,col_indexer] = value instead\n",
      "\n",
      "See the caveats in the documentation: https://pandas.pydata.org/pandas-docs/stable/user_guide/indexing.html#returning-a-view-versus-a-copy\n",
      "  vib_selected['label'] = 1  # 고장 (BPFI, BPFO 등)\n"
     ]
    },
    {
     "name": "stdout",
     "output_type": "stream",
     "text": [
      "    - 라벨 추가: 1 (고장)\n",
      "    - 저장 완료: C:/Users/parkm/Desktop/data/1/trans_to_csv/vibration_label/0Nm_BPFO_10_tr.csv\n",
      "  - 파일 로드: C:/Users/parkm/Desktop/data/1/trans_to_csv/vibration/vib_0Nm_Normal.csv\n",
      "    - 저장 완료: C:/Users/parkm/Desktop/data/1/trans_to_csv/vibration_label/0Nm_BPFO_10_tr.csv\n",
      "  - 파일 로드: C:/Users/parkm/Desktop/data/1/trans_to_csv/vibration/vib_0Nm_Normal.csv\n"
     ]
    },
    {
     "name": "stderr",
     "output_type": "stream",
     "text": [
      "C:\\Users\\parkm\\AppData\\Local\\Temp\\ipykernel_25068\\2553218183.py:46: SettingWithCopyWarning: \n",
      "A value is trying to be set on a copy of a slice from a DataFrame.\n",
      "Try using .loc[row_indexer,col_indexer] = value instead\n",
      "\n",
      "See the caveats in the documentation: https://pandas.pydata.org/pandas-docs/stable/user_guide/indexing.html#returning-a-view-versus-a-copy\n",
      "  vib_selected['label'] = 0  # 정상\n"
     ]
    },
    {
     "name": "stdout",
     "output_type": "stream",
     "text": [
      "    - 라벨 추가: 0 (정상)\n",
      "    - 저장 완료: C:/Users/parkm/Desktop/data/1/trans_to_csv/vibration_label/0Nm_Normal_tr.csv\n",
      "\n",
      "Vibration 데이터 처리 완료.\n",
      "처리된 파일들은 'C:/Users/parkm/Desktop/data/1/trans_to_csv/vibration_label/' 폴더에 저장되었습니다.\n",
      "    - 저장 완료: C:/Users/parkm/Desktop/data/1/trans_to_csv/vibration_label/0Nm_Normal_tr.csv\n",
      "\n",
      "Vibration 데이터 처리 완료.\n",
      "처리된 파일들은 'C:/Users/parkm/Desktop/data/1/trans_to_csv/vibration_label/' 폴더에 저장되었습니다.\n"
     ]
    }
   ],
   "source": [
    "# 원본 vibration 데이터 경로\n",
    "vib_input_path = 'C:/Users/parkm/Desktop/data/1/trans_to_csv/vibration/'\n",
    "\n",
    "# 처리된 파일들을 저장할 새로운 경로 (폴더가 없으면 생성)\n",
    "vib_output_path = 'C:/Users/parkm/Desktop/data/1/trans_to_csv/vibration_label/'\n",
    "os.makedirs(vib_output_path, exist_ok=True) # 폴더가 없으면 만듦\n",
    "\n",
    "prefix = 'vib_' # 파일명 접두사\n",
    "\n",
    "print(\"Vibration 데이터 처리 시작...\")\n",
    "\n",
    "for s in file_list:\n",
    "    original_file_name = s # '0Nm_BPFI_03.csv' 같은 원본 파일명\n",
    "    \n",
    "    # 1. 파일 경로 조합 및 데이터 로드\n",
    "    file_path = os.path.join(vib_input_path, f\"{prefix}{original_file_name}\")\n",
    "    print(f\"  - 파일 로드: {file_path}\")\n",
    "    \n",
    "    try:\n",
    "        vib = pd.read_csv(file_path)\n",
    "    except FileNotFoundError:\n",
    "        print(f\"    경고: 파일을 찾을 수 없습니다: {file_path}. 건너뜝니다.\")\n",
    "        continue\n",
    "    \n",
    "    # 2. Time_s (첫 번째 열)와 마지막 4개 열만 추출\n",
    "    # vib.shape[1]-4는 뒤에서 4번째 열, vib.shape[1]은 마지막 열 인덱스 + 1\n",
    "    # 이렇게 하면 Time_s, g_Col1, g_Col2, g_Col3, g_Col4가 선택될 것\n",
    "    # vib_selected = vib.iloc[:, [0] + list(range(vib.shape[1]-4, vib.shape[1]))]\n",
    "    \n",
    "    # 컬럼명 'Time_s', 'g_Col1', 'g_Col2', 'g_Col3', 'g_Col4' 명시적으로 선택\n",
    "    expected_cols = ['Time_s', 'g_Col1', 'g_Col2', 'g_Col3', 'g_Col4']\n",
    "    \n",
    "    # 실제 vib DataFrame에 expected_cols가 모두 있는지 확인하고 추출\n",
    "    # Time_s가 첫 번째, 나머지 4개가 마지막 4개인 경우를 가정\n",
    "    if 'Time_s' in vib.columns and all(col in vib.columns for col in expected_cols[1:] if col != 'Time_s'):\n",
    "        vib_selected = vib[expected_cols]\n",
    "    elif 'Time_s' in vib.columns: # 예상 컬럼명이 없더라도, Time_s와 마지막 4개 컬럼을 추출\n",
    "        vib_selected = vib.iloc[:, [0] + list(range(vib.shape[1]-4, vib.shape[1]))]\n",
    "        print(f\"    주의: 예상되는 진동 컬럼명({expected_cols[1:]})이 일치하지 않아 마지막 4개 컬럼을 가져왔습니다.\")\n",
    "    else:\n",
    "        print(f\"    경고: 'Time_s' 컬럼이 없어 처리할 수 없습니다: {original_file_name}. 건너뜝니다.\")\n",
    "        continue\n",
    "\n",
    "    # 3. 라벨링 열 추가 (Normal은 0, 나머지는 1)\n",
    "    if 'Normal' in original_file_name:\n",
    "        vib_selected['label'] = 0  # 정상\n",
    "        print(f\"    - 라벨 추가: 0 (정상)\")\n",
    "    else:\n",
    "        vib_selected['label'] = 1  # 고장 (BPFI, BPFO 등)\n",
    "        print(f\"    - 라벨 추가: 1 (고장)\")\n",
    "    \n",
    "    # 4. 새로운 파일명 생성 (_tr 추가) 및 저장 경로 조합\n",
    "    base_name = os.path.splitext(original_file_name)[0] # '0Nm_BPFI_03'\n",
    "    new_file_name = f\"{base_name}_tr.csv\" # '0Nm_BPFI_03_tr.csv'\n",
    "    output_file_path = os.path.join(vib_output_path, new_file_name)\n",
    "    \n",
    "    # 5. 시계열 데이터를 섞지 않고 그대로 저장 (index=False로 DataFrame 인덱스는 저장하지 않음)\n",
    "    vib_selected.to_csv(output_file_path, index=False)\n",
    "    print(f\"    - 저장 완료: {output_file_path}\")\n",
    "\n",
    "print(\"\\nVibration 데이터 처리 완료.\")\n",
    "print(f\"처리된 파일들은 '{vib_output_path}' 폴더에 저장되었습니다.\")"
   ]
  },
  {
   "cell_type": "markdown",
   "id": "cd5f75d1",
   "metadata": {},
   "source": [
    "#### 2) vibration 전체 변환"
   ]
  },
  {
   "cell_type": "code",
   "execution_count": null,
   "id": "03b9d9e9",
   "metadata": {},
   "outputs": [],
   "source": [
    "import glob\n",
    "\n",
    "# 원본 vibration 데이터 경로\n",
    "vib_input_path = 'C:/Users/parkm/Desktop/data/1/trans_to_csv/vibration/'\n",
    "\n",
    "# 처리된 파일들을 저장할 새로운 경로 (폴더가 없으면 생성)\n",
    "vib_output_path = 'C:/Users/parkm/Desktop/data/1/trans_to_csv/vibration_label/'\n",
    "os.makedirs(vib_output_path, exist_ok=True) \n",
    "\n",
    "prefix = 'vib_' # 파일명 접두사\n",
    "\n",
    "print(\"Vibration 데이터 파일별 처리 시작...\")\n",
    "\n",
    "# vib_input_path 내의 모든 vib_*.csv 파일 목록 가져오기\n",
    "# glob을 사용하면 file_list를 직접 만들 필요 없이 모든 파일 탐색\n",
    "all_vib_files_in_dir = glob.glob(os.path.join(vib_input_path, f\"{prefix}*.csv\"))\n",
    "\n",
    "for file_path in all_vib_files_in_dir:\n",
    "    original_file_name_with_prefix = os.path.basename(file_path) # 예: 'vib_0Nm_BPFI_03.csv'\n",
    "    # 'vib_' 접두사를 제거한 원본 파일명 (라벨링 및 _tr 접미사 붙일 때 사용)\n",
    "    original_base_name = original_file_name_with_prefix[len(prefix):] # 예: '0Nm_BPFI_03.csv'\n",
    "    \n",
    "    print(f\"  - 파일 로드: {original_file_name_with_prefix}\")\n",
    "    \n",
    "    try:\n",
    "        vib = pd.read_csv(file_path)\n",
    "    except FileNotFoundError:\n",
    "        print(f\"    경고: 파일을 찾을 수 없습니다: {file_path}. 건너뜝니다.\")\n",
    "        continue\n",
    "    \n",
    "    # Time_s (첫 번째 열)와 마지막 4개 열만 추출\n",
    "    # 컬럼명 'Time_s', 'g_Col1', 'g_Col2', 'g_Col3', 'g_Col4' 명시적 선택\n",
    "    expected_cols = ['Time_s', 'g_Col1', 'g_Col2', 'g_Col3', 'g_Col4']\n",
    "    \n",
    "    if 'Time_s' in vib.columns and all(col in vib.columns for col in expected_cols[1:] if col != 'Time_s'):\n",
    "        vib_selected = vib[expected_cols]\n",
    "    elif 'Time_s' in vib.columns: \n",
    "        # 예상 컬럼명이 없더라도, Time_s와 마지막 4개 컬럼을 추출\n",
    "        vib_selected = vib.iloc[:, [0] + list(range(vib.shape[1]-4, vib.shape[1]))]\n",
    "        print(f\"    주의: 예상되는 진동 컬럼명({expected_cols[1:]})이 일치하지 않아 마지막 4개 컬럼을 가져왔습니다.\")\n",
    "    else:\n",
    "        print(f\"    경고: 'Time_s' 컬럼이 없어 처리할 수 없습니다: {original_file_name_with_prefix}. 건너뜝니다.\")\n",
    "        continue\n",
    "\n",
    "    # 라벨링 열 추가 (Normal은 0, 나머지는 1)\n",
    "    if 'Normal' in original_base_name: # 파일명에 'Normal'이 포함되어 있는지 확인\n",
    "        vib_selected['label'] = 0  # 정상\n",
    "        print(f\"    - 라벨 추가: 0 (정상)\")\n",
    "    else:\n",
    "        vib_selected['label'] = 1  # 고장\n",
    "        print(f\"    - 라벨 추가: 1 (고장)\")\n",
    "    \n",
    "    # 새로운 파일명 생성 (_tr 추가) 및 저장 경로 조합\n",
    "    # original_base_name에서 확장자를 제거하고 _tr을 붙임\n",
    "    base_name_without_ext = os.path.splitext(original_base_name)[0] # '0Nm_BPFI_03'\n",
    "    new_file_name = f\"{base_name_without_ext}_tr.csv\" # '0Nm_BPFI_03_tr.csv'\n",
    "    output_file_path = os.path.join(vib_output_path, new_file_name)\n",
    "    \n",
    "    # 시계열 데이터를 섞지 않고 그대로 저장 (index=False로 DataFrame 인덱스는 저장하지 않음)\n",
    "    vib_selected.to_csv(output_file_path, index=False)\n",
    "    print(f\"    - 저장 완료: {output_file_path}\")\n",
    "\n",
    "print(\"\\nVibration 데이터 파일별 처리 완료.\")\n",
    "print(f\"처리된 파일들은 '{vib_output_path}' 폴더에 각각 저장되었습니다.\")"
   ]
  },
  {
   "cell_type": "markdown",
   "id": "21fc5ca1",
   "metadata": {},
   "source": [
    "## 3. cur,temp 변환\n",
    "\n",
    "#### 1) 일부"
   ]
  },
  {
   "cell_type": "code",
   "execution_count": 19,
   "id": "0a2f5e6a",
   "metadata": {},
   "outputs": [
    {
     "name": "stdout",
     "output_type": "stream",
     "text": [
      "Current,Temp 데이터 처리 시작 (file_list 기준, 단순 라벨링)...\n",
      "  - 파일 로드: C:/Users/parkm/Desktop/data/1/trans_to_csv/cur,temp/ct_0Nm_BPFI_03.csv\n",
      "    - 라벨 추가: 1 (고장)\n",
      "    - 라벨 추가: 1 (고장)\n",
      "    - 저장 완료: C:/Users/parkm/Desktop/data/1/trans_to_csv/cur,temp_label/0Nm_BPFI_03_tr.csv\n",
      "  - 파일 로드: C:/Users/parkm/Desktop/data/1/trans_to_csv/cur,temp/ct_0Nm_BPFI_10.csv\n",
      "    - 저장 완료: C:/Users/parkm/Desktop/data/1/trans_to_csv/cur,temp_label/0Nm_BPFI_03_tr.csv\n",
      "  - 파일 로드: C:/Users/parkm/Desktop/data/1/trans_to_csv/cur,temp/ct_0Nm_BPFI_10.csv\n",
      "    - 라벨 추가: 1 (고장)\n",
      "    - 라벨 추가: 1 (고장)\n",
      "    - 저장 완료: C:/Users/parkm/Desktop/data/1/trans_to_csv/cur,temp_label/0Nm_BPFI_10_tr.csv\n",
      "  - 파일 로드: C:/Users/parkm/Desktop/data/1/trans_to_csv/cur,temp/ct_0Nm_BPFO_03.csv\n",
      "    - 저장 완료: C:/Users/parkm/Desktop/data/1/trans_to_csv/cur,temp_label/0Nm_BPFI_10_tr.csv\n",
      "  - 파일 로드: C:/Users/parkm/Desktop/data/1/trans_to_csv/cur,temp/ct_0Nm_BPFO_03.csv\n",
      "    - 라벨 추가: 1 (고장)\n",
      "    - 라벨 추가: 1 (고장)\n",
      "    - 저장 완료: C:/Users/parkm/Desktop/data/1/trans_to_csv/cur,temp_label/0Nm_BPFO_03_tr.csv\n",
      "  - 파일 로드: C:/Users/parkm/Desktop/data/1/trans_to_csv/cur,temp/ct_0Nm_BPFO_10.csv\n",
      "    - 저장 완료: C:/Users/parkm/Desktop/data/1/trans_to_csv/cur,temp_label/0Nm_BPFO_03_tr.csv\n",
      "  - 파일 로드: C:/Users/parkm/Desktop/data/1/trans_to_csv/cur,temp/ct_0Nm_BPFO_10.csv\n",
      "    - 라벨 추가: 1 (고장)\n",
      "    - 라벨 추가: 1 (고장)\n",
      "    - 저장 완료: C:/Users/parkm/Desktop/data/1/trans_to_csv/cur,temp_label/0Nm_BPFO_10_tr.csv\n",
      "  - 파일 로드: C:/Users/parkm/Desktop/data/1/trans_to_csv/cur,temp/ct_0Nm_Normal.csv\n",
      "    - 저장 완료: C:/Users/parkm/Desktop/data/1/trans_to_csv/cur,temp_label/0Nm_BPFO_10_tr.csv\n",
      "  - 파일 로드: C:/Users/parkm/Desktop/data/1/trans_to_csv/cur,temp/ct_0Nm_Normal.csv\n",
      "    - 라벨 추가: 0 (정상)\n",
      "    - 라벨 추가: 0 (정상)\n",
      "    - 저장 완료: C:/Users/parkm/Desktop/data/1/trans_to_csv/cur,temp_label/0Nm_Normal_tr.csv\n",
      "\n",
      "Current,Temp 데이터 처리 완료 (file_list 기준, 단순 라벨링).\n",
      "처리된 파일들은 'C:/Users/parkm/Desktop/data/1/trans_to_csv/cur,temp_label/' 폴더에 저장되었습니다.\n",
      "    - 저장 완료: C:/Users/parkm/Desktop/data/1/trans_to_csv/cur,temp_label/0Nm_Normal_tr.csv\n",
      "\n",
      "Current,Temp 데이터 처리 완료 (file_list 기준, 단순 라벨링).\n",
      "처리된 파일들은 'C:/Users/parkm/Desktop/data/1/trans_to_csv/cur,temp_label/' 폴더에 저장되었습니다.\n"
     ]
    }
   ],
   "source": [
    "# 원본 current,temp 데이터 경로\n",
    "ct_input_path = 'C:/Users/parkm/Desktop/data/1/trans_to_csv/cur,temp/'\n",
    "\n",
    "# 처리된 파일들을 저장할 새로운 경로 (폴더가 없으면 생성)\n",
    "ct_output_path = 'C:/Users/parkm/Desktop/data/1/trans_to_csv/cur,temp_label/'\n",
    "os.makedirs(ct_output_path, exist_ok=True) \n",
    "\n",
    "prefix = 'ct_' # 파일명 접두사\n",
    "\n",
    "print(\"Current,Temp 데이터 처리 시작 (file_list 기준, 단순 라벨링)...\")\n",
    "\n",
    "for s in file_list: # file_list에 있는 파일명만 사용\n",
    "    original_file_name = s # '0Nm_BPFI_03.csv' 같은 원본 파일명\n",
    "    \n",
    "    # 1. 파일 경로 조합 및 데이터 로드\n",
    "    file_path = os.path.join(ct_input_path, f\"{prefix}{original_file_name}\")\n",
    "    print(f\"  - 파일 로드: {file_path}\")\n",
    "    \n",
    "    try:\n",
    "        ct = pd.read_csv(file_path)\n",
    "    except FileNotFoundError:\n",
    "        print(f\"    경고: 파일을 찾을 수 없습니다: {file_path}. 건너뜁니다.\")\n",
    "        continue\n",
    "    \n",
    "    # 2. 모든 열을 그대로 유지 (Time_s 유무나 다른 컬럼 점검 없음)\n",
    "    ct_processed = ct # 모든 컬럼 그대로 사용.\n",
    "    \n",
    "    # 3. 라벨링 열 추가 (Normal은 0, 나머지는 1)\n",
    "    if 'Normal' in original_file_name:\n",
    "        ct_processed['label'] = 0  # 정상\n",
    "        print(f\"    - 라벨 추가: 0 (정상)\")\n",
    "    else:\n",
    "        ct_processed['label'] = 1  # 고장\n",
    "        print(f\"    - 라벨 추가: 1 (고장)\")\n",
    "    \n",
    "    # 4. 새로운 파일명 생성 (_tr 추가) 및 저장 경로 조합\n",
    "    base_name = os.path.splitext(original_file_name)[0]\n",
    "    new_file_name = f\"{base_name}_tr.csv\"\n",
    "    output_file_path = os.path.join(ct_output_path, new_file_name)\n",
    "    \n",
    "    # 5. 시계열 데이터를 섞지 않고 그대로 저장\n",
    "    ct_processed.to_csv(output_file_path, index=False)\n",
    "    print(f\"    - 저장 완료: {output_file_path}\")\n",
    "\n",
    "print(\"\\nCurrent,Temp 데이터 처리 완료 (file_list 기준, 단순 라벨링).\")\n",
    "print(f\"처리된 파일들은 '{ct_output_path}' 폴더에 저장되었습니다.\")"
   ]
  },
  {
   "cell_type": "markdown",
   "id": "b1c47127",
   "metadata": {},
   "source": [
    "#### 2) 전체"
   ]
  },
  {
   "cell_type": "code",
   "execution_count": null,
   "id": "65d86bf3",
   "metadata": {},
   "outputs": [],
   "source": [
    "# 원본 current,temp 데이터 경로\n",
    "ct_input_path = 'C:/Users/parkm/Desktop/data/1/trans_to_csv/cur,temp/'\n",
    "\n",
    "# 처리된 파일들을 저장할 새로운 경로 (폴더가 없으면 생성)\n",
    "ct_output_path = 'C:/Users/parkm/Desktop/data/1/trans_to_csv/cur,temp_label/'\n",
    "os.makedirs(ct_output_path, exist_ok=True)\n",
    "prefix = 'ct_' # 파일명 접두사\n",
    "\n",
    "print(\"Current,Temp 데이터 처리 시작 (모든 파일 자동 탐색, 단순 라벨링)...\")\n",
    "\n",
    "# ct_input_path 내의 모든 'ct_*.csv' 파일 목록 가져오기\n",
    "all_ct_files_in_dir = glob.glob(os.path.join(ct_input_path, f\"{prefix}*.csv\"))\n",
    "\n",
    "for file_path in all_ct_files_in_dir:\n",
    "    original_file_name_with_prefix = os.path.basename(file_path) # 예: 'ct_0Nm_BPFI_03.csv'\n",
    "    original_base_name = original_file_name_with_prefix[len(prefix):] # 예: '0Nm_BPFI_03.csv'\n",
    "    \n",
    "    print(f\"  - 파일 로드: {original_file_name_with_prefix}\")\n",
    "    \n",
    "    try:\n",
    "        ct = pd.read_csv(file_path)\n",
    "    except FileNotFoundError:\n",
    "        print(f\"    경고: 파일을 찾을 수 없습니다: {file_path}. 건너뜝니다.\")\n",
    "        continue\n",
    "    \n",
    "    ct_processed = ct # 모든 컬럼 그대로 사용\n",
    "    \n",
    "    # 라벨링 열 추가 (Normal은 0, 나머지는 1)\n",
    "    if 'Normal' in original_base_name:\n",
    "        ct_processed['label'] = 0  # 정상\n",
    "        print(f\"    - 라벨 추가: 0 (정상)\")\n",
    "    else:\n",
    "        ct_processed['label'] = 1  # 고장\n",
    "        print(f\"    - 라벨 추가: 1 (고장)\")\n",
    "    \n",
    "    # 새로운 파일명 생성 (_tr 추가) 및 저장 경로 조합\n",
    "    base_name_without_ext = os.path.splitext(original_base_name)[0]\n",
    "    new_file_name = f\"{base_name_without_ext}_tr.csv\"\n",
    "    output_file_path = os.path.join(ct_output_path, new_file_name)\n",
    "    \n",
    "    # 시계열 데이터를 섞지 않고 그대로 저장\n",
    "    ct_processed.to_csv(output_file_path, index=False)\n",
    "    print(f\"    - 저장 완료: {output_file_path}\")\n",
    "\n",
    "print(\"\\nCurrent,Temp 데이터 처리 완료 (모든 파일 자동 탐색, 단순 라벨링).\")\n",
    "print(f\"처리된 파일들은 '{ct_output_path}' 폴더에 각각 저장되었습니다.\")"
   ]
  }
 ],
 "metadata": {
  "kernelspec": {
   "display_name": "Python 3",
   "language": "python",
   "name": "python3"
  },
  "language_info": {
   "codemirror_mode": {
    "name": "ipython",
    "version": 3
   },
   "file_extension": ".py",
   "mimetype": "text/x-python",
   "name": "python",
   "nbconvert_exporter": "python",
   "pygments_lexer": "ipython3",
   "version": "3.11.1"
  }
 },
 "nbformat": 4,
 "nbformat_minor": 5
}
